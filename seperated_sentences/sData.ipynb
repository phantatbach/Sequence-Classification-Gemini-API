{
 "cells": [
  {
   "cell_type": "markdown",
   "metadata": {},
   "source": [
    "# Data"
   ]
  },
  {
   "cell_type": "code",
   "execution_count": null,
   "metadata": {},
   "outputs": [],
   "source": [
    "import csv\n",
    "\n",
    "input_file = r'train.txt'\n",
    "output_file = r'train.csv'\n",
    "\n",
    "# Open the input and output files\n",
    "with open(input_file, 'r') as txt_file, open(output_file, 'w', newline='') as csv_file:\n",
    "    # Create a CSV writer object\n",
    "    csv_writer = csv.writer(csv_file)\n",
    "\n",
    "    # Write the header row\n",
    "    csv_writer.writerow(['gold_type', 'text'])\n",
    "\n",
    "    # Read the lines from the text file and process them\n",
    "    for line in txt_file:\n",
    "        line = line.strip()\n",
    "        parts = line.split('\\t')\n",
    "\n",
    "        # Write the parts as a row in the CSV file\n",
    "        csv_writer.writerow(parts)\n",
    "\n",
    "print(\"Conversion completed successfully.\")"
   ]
  },
  {
   "cell_type": "code",
   "execution_count": null,
   "metadata": {},
   "outputs": [],
   "source": [
    "import re\n",
    "\n",
    "data = []\n",
    "\n",
    "with open('dev.txt', 'r') as file:\n",
    "    content = file.read()\n",
    "    entries = content.split(\"###\")\n",
    "\n",
    "    for entry in entries:\n",
    "        if entry.strip() != \"\":\n",
    "            lines = entry.strip().split('\\n')\n",
    "            item = {\n",
    "                'ID': lines[0].strip(),\n",
    "                'Label': '',\n",
    "                'Text': ''\n",
    "            }\n",
    "            for line in lines[1:]:\n",
    "                label, text = re.split(r'\\t+', line)\n",
    "                item['Label'] += label.strip() + ' '\n",
    "                item['Text'] += text.strip() + ' '\n",
    "            item['Label'] = item['Label'].strip()\n",
    "            item['Text'] = item['Text'].strip()\n",
    "            data.append(item)\n",
    "\n",
    "# In danh sách các mục nhập\n",
    "# for item in data:\n",
    "    # print(item)\n",
    "\n",
    "import csv\n",
    "\n",
    "csv_file = 'dev.csv'  # Output CSV file path\n",
    "\n",
    "# Write data to CSV file\n",
    "with open(csv_file, 'w', newline='') as file:\n",
    "    writer = csv.writer(file)\n",
    "    \n",
    "    # Write column headers\n",
    "    writer.writerow(['ID', 'Label', 'Text'])\n",
    "    \n",
    "    # Write each entry to the CSV file\n",
    "    for item in data:\n",
    "        writer.writerow([item['ID'], item['Label'], item['Text']])\n",
    "\n",
    "print(\"Data converted to CSV.\")"
   ]
  },
  {
   "cell_type": "code",
   "execution_count": null,
   "metadata": {},
   "outputs": [],
   "source": [
    "import pandas as pd\n",
    "import numpy as np"
   ]
  },
  {
   "cell_type": "code",
   "execution_count": null,
   "metadata": {},
   "outputs": [],
   "source": [
    "df = pd.read_csv(r'test.csv')\n",
    "df.head(19)"
   ]
  },
  {
   "cell_type": "code",
   "execution_count": null,
   "metadata": {},
   "outputs": [],
   "source": [
    "# loop through the rows\n",
    "for index, row in df.iterrows():\n",
    "    # if row 'text' is nan, delete the whole row:\n",
    "    if row['text'] is np.nan:\n",
    "        df.drop(index, inplace=True)"
   ]
  },
  {
   "cell_type": "code",
   "execution_count": null,
   "metadata": {},
   "outputs": [],
   "source": [
    "# shuffle df row\n",
    "df = df.sample(frac=0.01).reset_index(drop=True)"
   ]
  },
  {
   "cell_type": "code",
   "execution_count": null,
   "metadata": {},
   "outputs": [],
   "source": [
    "# Take the first 500 rows\n",
    "# df500 = df.head(500)\n",
    "df500 = df.iloc[0000:10000]\n",
    "df500['type'].to_csv(r'test_0_10000.csv', index=False)\n",
    "# df500.to_csv(r'test_0000_5000.csv', index=False)"
   ]
  },
  {
   "cell_type": "code",
   "execution_count": null,
   "metadata": {},
   "outputs": [],
   "source": [
    "df.to_csv(r'test.csv', index=False)"
   ]
  },
  {
   "cell_type": "markdown",
   "metadata": {},
   "source": [
    "# Results"
   ]
  },
  {
   "cell_type": "code",
   "execution_count": null,
   "metadata": {},
   "outputs": [],
   "source": [
    "import glob\n",
    "import pandas as pd\n",
    "from sklearn.metrics import accuracy_score, f1_score\n",
    "import numpy as np"
   ]
  },
  {
   "cell_type": "code",
   "execution_count": null,
   "metadata": {},
   "outputs": [],
   "source": [
    "csv_files = glob.glob('*.{}'.format('csv'))\n",
    "csv_files"
   ]
  },
  {
   "cell_type": "code",
   "execution_count": null,
   "metadata": {},
   "outputs": [],
   "source": [
    "df_csv_concat = pd.concat([pd.read_csv(file) for file in csv_files], ignore_index=True)\n",
    "df_csv_concat['prediction'].to_csv(\"output_0_10000.csv\", index=False)\n",
    "# df_csv_concat.to_csv(\"output_0_2000.csv\", index=False)"
   ]
  },
  {
   "cell_type": "code",
   "execution_count": null,
   "metadata": {},
   "outputs": [],
   "source": [
    "df_output = pd.read_csv('output_0_10000.csv')\n",
    "df_test = pd.read_csv('test_0_10000.csv')"
   ]
  },
  {
   "cell_type": "code",
   "execution_count": null,
   "metadata": {},
   "outputs": [],
   "source": [
    "df_concat = pd.concat([df_output, df_test], axis = 1)\n",
    "df_concat = df_concat.dropna()\n",
    "df_concat = df_concat.drop(df_concat[df_concat['prediction'] == 'HYPOTHESIS'].index)\n",
    "df_concat = df_concat.drop(df_concat[df_concat['prediction'] == 'TITLE'].index)"
   ]
  },
  {
   "cell_type": "code",
   "execution_count": null,
   "metadata": {},
   "outputs": [],
   "source": [
    "y_test = df_concat['type']\n",
    "y_pred = df_concat['prediction']\n",
    "\n",
    "# Calculate accuracy\n",
    "accuracy = accuracy_score(y_test, y_pred)\n",
    "\n",
    "# Calculate F1 score\n",
    "f1 = f1_score(y_test, y_pred, average='weighted')\n",
    "\n",
    "# Print the results\n",
    "print(\"Accuracy:\", accuracy)\n",
    "print(\"F1 score:\", f1)"
   ]
  },
  {
   "cell_type": "code",
   "execution_count": null,
   "metadata": {},
   "outputs": [],
   "source": [
    "table = pd.crosstab(df_concat['type'], df_concat['prediction'])\n",
    "table_percent = table.apply(lambda x: x / x.sum() * 100, axis=1)\n",
    "print(table)\n",
    "print('-' * 80)\n",
    "print(table_percent)"
   ]
  }
 ],
 "metadata": {
  "kernelspec": {
   "display_name": "NLP310",
   "language": "python",
   "name": "python3"
  },
  "language_info": {
   "codemirror_mode": {
    "name": "ipython",
    "version": 3
   },
   "file_extension": ".py",
   "mimetype": "text/x-python",
   "name": "python",
   "nbconvert_exporter": "python",
   "pygments_lexer": "ipython3",
   "version": "3.10.12"
  }
 },
 "nbformat": 4,
 "nbformat_minor": 2
}
