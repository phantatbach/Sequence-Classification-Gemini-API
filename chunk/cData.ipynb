{
 "cells": [
  {
   "cell_type": "markdown",
   "metadata": {},
   "source": [
    "# Data"
   ]
  },
  {
   "cell_type": "code",
   "execution_count": null,
   "metadata": {},
   "outputs": [],
   "source": [
    "import csv\n",
    "\n",
    "input_file = r'dev.txt'\n",
    "output_file = r'dev.csv'\n",
    "\n",
    "# Open the input and output files\n",
    "with open(input_file, 'r') as txt_file, open(output_file, 'w', newline='') as csv_file:\n",
    "    # Create a CSV writer object\n",
    "    csv_writer = csv.writer(csv_file)\n",
    "\n",
    "    # Write the header row\n",
    "    csv_writer.writerow(['gold_type', 'text'])\n",
    "\n",
    "    # Read the lines from the text file and process them\n",
    "    for line in txt_file:\n",
    "        line = line.strip()\n",
    "        parts = line.split('\\t')\n",
    "\n",
    "        # Write the parts as a row in the CSV file\n",
    "        csv_writer.writerow(parts)\n",
    "\n",
    "print(\"Conversion completed successfully.\")"
   ]
  },
  {
   "cell_type": "code",
   "execution_count": null,
   "metadata": {},
   "outputs": [],
   "source": [
    "import csv\n",
    "\n",
    "input_file = r'dev.txt'\n",
    "output_file = r'dev.csv'\n",
    "\n",
    "# Open the input and output files\n",
    "with open(input_file, 'r') as txt_file, open(output_file, 'w', newline='') as csv_file:\n",
    "    # Create a CSV writer object\n",
    "    csv_writer = csv.writer(csv_file)\n",
    "\n",
    "    # Write the header row\n",
    "    csv_writer.writerow(['id', 'gold_type', 'text'])\n",
    "\n",
    "    # Read the lines from the text file and process them\n",
    "    for line in txt_file:\n",
    "        line = line.strip()\n",
    "        parts = line.split('\\t')\n",
    "\n",
    "       # If part starts with ###, put it to id\n",
    "       # If part \n",
    "\n",
    "        # Write the parts as a row in the CSV file\n",
    "        csv_writer.writerow(parts_with_line_break)\n"
   ]
  },
  {
   "cell_type": "code",
   "execution_count": null,
   "metadata": {},
   "outputs": [],
   "source": [
    "import pandas as pd\n",
    "with open('test.txt', 'r') as f:\n",
    "    blocks = f.read().split('\\n\\n')\n",
    "ids = []\n",
    "labels = []\n",
    "texts = []\n",
    "\n",
    "for block in blocks:\n",
    "    lines = block.split('\\n')\n",
    "    block_label = []\n",
    "    block_text = []\n",
    "    \n",
    "    for line in lines:\n",
    "        if len(line) < 3:\n",
    "            continue\n",
    "        if '###' in line[:4].strip():\n",
    "            ids.append(line)\n",
    "        else:\n",
    "            label = line.split()[0].strip()\n",
    "            text = line.replace(label, '').strip()\n",
    "            block_label.append(label)  #+ ' \\n')\n",
    "            block_text.append(text) # + ' \\n')\n",
    "    labels.append(block_label)\n",
    "    texts.append(block_text)"
   ]
  },
  {
   "cell_type": "code",
   "execution_count": null,
   "metadata": {},
   "outputs": [],
   "source": [
    "texts"
   ]
  },
  {
   "cell_type": "code",
   "execution_count": null,
   "metadata": {},
   "outputs": [],
   "source": [
    "# Check if the lengths of ids, labels, and texts are consistent\n",
    "if len(labels) == len(texts):\n",
    "    # Create a dictionary to store the extracted data\n",
    "    data = {\n",
    "        # 'ID': ids,\n",
    "        'Label': labels,\n",
    "        'Text': texts\n",
    "    }\n",
    "\n",
    "    # Create a DataFrame from the data dictionary\n",
    "    df = pd.DataFrame(data)\n",
    "\n",
    "    # Define the output file path\n",
    "    output_file = 'test.csv'\n",
    "\n",
    "    # Write the DataFrame to a CSV file\n",
    "    df.to_csv(output_file, index=False)\n",
    "else:\n",
    "    print(\"Error: Inconsistent data lengths.\")"
   ]
  },
  {
   "cell_type": "code",
   "execution_count": null,
   "metadata": {},
   "outputs": [],
   "source": [
    "import pandas as pd\n",
    "import numpy as np"
   ]
  },
  {
   "cell_type": "code",
   "execution_count": null,
   "metadata": {},
   "outputs": [],
   "source": [
    "df = pd.read_csv(r'test.csv')\n",
    "df.head()"
   ]
  },
  {
   "cell_type": "code",
   "execution_count": null,
   "metadata": {},
   "outputs": [],
   "source": [
    "import re\n",
    "for index, row in df.iterrows():\n",
    "    df_text = row['Text']\n",
    "    # Split the paragraph into sentences\n",
    "    sentences = re.split(r'(?<=[.!?])\\s+', df_text)\n",
    "\n",
    "    # Enumerate and number the sentences\n",
    "    numbered_sentences = [f\"{i+1}. {sentence}\" for i, sentence in enumerate(sentences)]\n",
    "        \n",
    "    # Join the sentences with line breaks\n",
    "    modified_text = '\\n'.join(numbered_sentences)\n",
    "        \n",
    "    # Update the value in column C\n",
    "    df.at[index, 'Text'] = modified_text\n",
    "\n",
    "df.to_csv('dev.csv', index=False)"
   ]
  },
  {
   "cell_type": "code",
   "execution_count": null,
   "metadata": {},
   "outputs": [],
   "source": [
    "print(modified_text)"
   ]
  },
  {
   "cell_type": "code",
   "execution_count": null,
   "metadata": {},
   "outputs": [],
   "source": [
    "# loop through the rows\n",
    "for index, row in df.iterrows():\n",
    "    # if row 'text' is nan, delete the whole row:\n",
    "    # if row['text'] is np.nan:\n",
    "        # df.drop(index, inplace=True)"
   ]
  },
  {
   "cell_type": "code",
   "execution_count": null,
   "metadata": {},
   "outputs": [],
   "source": [
    "# shuffle df row\n",
    "df = df.sample(frac=0.01).reset_index(drop=True)"
   ]
  },
  {
   "cell_type": "code",
   "execution_count": null,
   "metadata": {},
   "outputs": [],
   "source": [
    "# Take the first 500 rows\n",
    "# df500 = df.head(500)\n",
    "df500 = df.iloc[0000:10]\n",
    "# df500['type'].to_csv(r'test_0_10.csv', index=False)\n",
    "df500.to_csv(r'test_0000_10.csv', index=False)"
   ]
  },
  {
   "cell_type": "code",
   "execution_count": null,
   "metadata": {},
   "outputs": [],
   "source": [
    "df.to_csv(r'PubMed 20k\\test.csv', index=False)"
   ]
  },
  {
   "cell_type": "markdown",
   "metadata": {},
   "source": [
    "# Results"
   ]
  },
  {
   "cell_type": "code",
   "execution_count": null,
   "metadata": {},
   "outputs": [],
   "source": [
    "import glob\n",
    "import pandas as pd\n",
    "from sklearn.metrics import accuracy_score, f1_score\n",
    "import numpy as np"
   ]
  },
  {
   "cell_type": "code",
   "execution_count": null,
   "metadata": {},
   "outputs": [],
   "source": [
    "csv_files = glob.glob('*.{}'.format('csv'))\n",
    "csv_files"
   ]
  },
  {
   "cell_type": "code",
   "execution_count": null,
   "metadata": {},
   "outputs": [],
   "source": [
    "df_csv_concat = pd.concat([pd.read_csv(file) for file in csv_files], ignore_index=True)\n",
    "df_csv_concat['prediction'].to_csv(\"output_0_5000.csv\", index=False)\n",
    "# df_csv_concat.to_csv(\"output_0_2000.csv\", index=False)"
   ]
  },
  {
   "cell_type": "code",
   "execution_count": null,
   "metadata": {},
   "outputs": [],
   "source": [
    "df_output = pd.read_csv('output_0_5000.csv')\n",
    "df_test = pd.read_csv('test_0_5000.csv')"
   ]
  },
  {
   "cell_type": "code",
   "execution_count": null,
   "metadata": {},
   "outputs": [],
   "source": [
    "df_concat = pd.concat([df_output, df_test], axis = 1)\n",
    "df_concat = df_concat.dropna()"
   ]
  },
  {
   "cell_type": "code",
   "execution_count": null,
   "metadata": {},
   "outputs": [],
   "source": [
    "y_test = df_concat['type']\n",
    "y_pred = df_concat['prediction']\n",
    "\n",
    "# Calculate accuracy\n",
    "accuracy = accuracy_score(y_test, y_pred)\n",
    "\n",
    "# Calculate F1 score\n",
    "f1 = f1_score(y_test, y_pred, average='weighted')\n",
    "\n",
    "# Print the results\n",
    "print(\"Accuracy:\", accuracy)\n",
    "print(\"F1 score:\", f1)"
   ]
  }
 ],
 "metadata": {
  "kernelspec": {
   "display_name": "NLP310",
   "language": "python",
   "name": "python3"
  },
  "language_info": {
   "codemirror_mode": {
    "name": "ipython",
    "version": 3
   },
   "file_extension": ".py",
   "mimetype": "text/x-python",
   "name": "python",
   "nbconvert_exporter": "python",
   "pygments_lexer": "ipython3",
   "version": "3.10.12"
  }
 },
 "nbformat": 4,
 "nbformat_minor": 2
}
