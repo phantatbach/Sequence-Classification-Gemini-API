{
 "cells": [
  {
   "cell_type": "markdown",
   "metadata": {},
   "source": [
    "# Import"
   ]
  },
  {
   "cell_type": "code",
   "execution_count": null,
   "metadata": {},
   "outputs": [],
   "source": [
    "import pathlib\n",
    "import textwrap\n",
    "\n",
    "import google.generativeai as genai\n",
    "\n",
    "from IPython.display import display\n",
    "from IPython.display import Markdown\n",
    "\n",
    "def to_markdown(text):\n",
    "  text = text.replace('•', '  *')\n",
    "  return Markdown(textwrap.indent(text, '> ', predicate=lambda _: True))\n",
    "\n",
    "from google.generativeai.types import HarmCategory, HarmBlockThreshold\n",
    "\n",
    "GOOGLE_API_KEY = 'YOUR API KEY'\n",
    "genai.configure(api_key=GOOGLE_API_KEY)\n",
    "model = genai.GenerativeModel('gemini-pro')"
   ]
  },
  {
   "cell_type": "code",
   "execution_count": null,
   "metadata": {},
   "outputs": [],
   "source": [
    "prompt = '''\n",
    "This is a sequential classification task for medical abstracts. There are only 5 labels, namely: OBJECTIVE, BACKGROUND, METHODS, RESULTS, CONCLUSIONS. I want to classify each sentence with its corresponding label. Note that each sentence corresponds to ONE AND ONLY ONE LABEL.\n",
    "\n",
    "  Below are 10 abstracts for examples, with the format LABEL,text for each sentences in the abstract. Note that within 1 abstracts, the sentences are related to eachother but the abstracts are not related to eachother:\n",
    "\n",
    "  ABSTRACT 1:\n",
    "  OBJECTIVE\tTo investigate the efficacy of 6 weeks of daily low-dose oral prednisolone in improving pain , mobility , and systemic low-grade inflammation in the short term and whether the effect would be sustained at 12 weeks in older adults with moderate to severe knee osteoarthritis ( OA ) .\n",
    "  METHODS\tA total of 125 patients with primary knee OA were randomized 1:1 ; 63 received 7.5 mg/day of prednisolone and 62 received placebo for 6 weeks .\n",
    "  METHODS\tOutcome measures included pain reduction and improvement in function scores and systemic inflammation markers .\n",
    "  METHODS\tPain was assessed using the visual analog pain scale ( 0-100 mm ) .\n",
    "  METHODS\tSecondary outcome measures included the Western Ontario and McMaster Universities Osteoarthritis Index scores , patient global assessment ( PGA ) of the severity of knee OA , and 6-min walk distance ( 6MWD ) .\n",
    "  METHODS\tSerum levels of interleukin 1 ( IL-1 ) , IL-6 , tumor necrosis factor ( TNF ) - , and high-sensitivity C-reactive protein ( hsCRP ) were measured .\n",
    "  RESULTS\tThere was a clinically relevant reduction in the intervention group compared to the placebo group for knee pain , physical function , PGA , and 6MWD at 6 weeks .\n",
    "  RESULTS\tThe mean difference between treatment arms ( 95 % CI ) was 10.9 ( 4.8-18 .0 ) , p < 0.001 ; 9.5 ( 3.7-15 .4 ) , p < 0.05 ; 15.7 ( 5.3-26 .1 ) , p < 0.001 ; and 86.9 ( 29.8-144 .1 ) , p < 0.05 , respectively .\n",
    "  RESULTS\tFurther , there was a clinically relevant reduction in the serum levels of IL-1 , IL-6 , TNF - , and hsCRP at 6 weeks in the intervention group when compared to the placebo group .\n",
    "  RESULTS\tThese differences remained significant at 12 weeks .\n",
    "  RESULTS\tThe Outcome Measures in Rheumatology Clinical Trials-Osteoarthritis Research Society International responder rate was 65 % in the intervention group and 34 % in the placebo group ( p < 0.05 ) .\n",
    "  CONCLUSIONS\tLow-dose oral prednisolone had both a short-term and a longer sustained effect resulting in less knee pain , better physical function , and attenuation of systemic inflammation in older patients with knee OA ( ClinicalTrials.gov identifier NCT01619163 ) .\n",
    "\n",
    "  ABSTRACT 2:\n",
    "  BACKGROUND\tEmotional eating is associated with overeating and the development of obesity .\n",
    "  BACKGROUND\tYet , empirical evidence for individual ( trait ) differences in emotional eating and cognitive mechanisms that contribute to eating during sad mood remain equivocal .\n",
    "  OBJECTIVE\tThe aim of this study was to test if attention bias for food moderates the effect of self-reported emotional eating during sad mood ( vs neutral mood ) on actual food intake .\n",
    "  OBJECTIVE\tIt was expected that emotional eating is predictive of elevated attention for food and higher food intake after an experimentally induced sad mood and that attentional maintenance on food predicts food intake during a sad versus a neutral mood .\n",
    "  METHODS\tParticipants ( N = 85 ) were randomly assigned to one of the two experimental mood induction conditions ( sad/neutral ) .\n",
    "  METHODS\tAttentional biases for high caloric foods were measured by eye tracking during a visual probe task with pictorial food and neutral stimuli .\n",
    "  METHODS\tSelf-reported emotional eating was assessed with the Dutch Eating Behavior Questionnaire ( DEBQ ) and ad libitum food intake was tested by a disguised food offer .\n",
    "  RESULTS\tHierarchical multivariate regression modeling showed that self-reported emotional eating did not account for changes in attention allocation for food or food intake in either condition .\n",
    "  RESULTS\tYet , attention maintenance on food cues was significantly related to increased intake specifically in the neutral condition , but not in the sad mood condition .\n",
    "  CONCLUSIONS\tThe current findings show that self-reported emotional eating ( based on the DEBQ ) might not validly predict who overeats when sad , at least not in a laboratory setting with healthy women .\n",
    "  CONCLUSIONS\tResults further suggest that attention maintenance on food relates to eating motivation when in a neutral affective state , and might therefore be a cognitive mechanism contributing to increased food intake in general , but maybe not during sad mood .\n",
    "\n",
    "  ABSTRACT 3:\n",
    "  BACKGROUND\tAlthough working smoke alarms halve deaths in residential fires , many households do not keep alarms operational .\n",
    "  BACKGROUND\tWe tested whether theory-based education increases alarm operability .\n",
    "  METHODS\tRandomised multiarm trial , with a single arm randomly selected for use each day , in low-income neighbourhoods in Maryland , USA .\n",
    "  METHODS\tIntervention arms : ( 1 ) Full Education combining a health belief module with a social-cognitive theory module that provided hands-on practice installing alarm batteries and using the alarm 's hush button ; ( 2 ) Hands-on Practice social-cognitive module supplemented by typical fire department education ; ( 3 ) Current Norm receiving typical fire department education only .\n",
    "  METHODS\tFour hundred and thirty-six homes recruited through churches or by knocking on doors in 2005-2008 .\n",
    "  METHODS\tFollow-up visits checked alarm operability in 370 homes ( 85 % ) 1-3 .5 years after installation .\n",
    "  METHODS\tnumber of homes with working alarms defined as alarms with working batteries or hard-wired and number of working alarms per home .\n",
    "  METHODS\tRegressions controlled for alarm status preintervention ; demographics and beliefs about fire risks and alarm effectiveness .\n",
    "  RESULTS\tHomes in the Full Education and Practice arms were more likely to have a functioning smoke alarm at follow-up ( OR = 2.77 , 95 % CI 1.09 to 7.03 ) and had an average of 0.32 more working alarms per home ( 95 % CI 0.09 to 0.56 ) .\n",
    "  RESULTS\tWorking alarms per home rose 16 % .\n",
    "  RESULTS\tFull Education and Practice had similar effectiveness ( p = 0.97 on both outcome measures ) .\n",
    "  CONCLUSIONS\tWithout exceeding typical fire department installation time , installers can achieve greater smoke alarm operability .\n",
    "  CONCLUSIONS\tHands-on practice is key .\n",
    "  CONCLUSIONS\tTwo years after installation , for every three homes that received hands-on practice , one had an additional working alarm .\n",
    "  BACKGROUND\thttp://www.clinicaltrials.gov number NCT00139126 .\n",
    "\n",
    "  ABSTRACT 4:\n",
    "  OBJECTIVE\tTo evaluate the performance ( efficacy , safety and acceptability ) of a new micro-adherent absorbent dressing ( UrgoClean ) compared with a hydrofiber dressing ( Aquacel ) in the local management of venous leg ulcers , in the debridement stage .\n",
    "  METHODS\tA non-inferiority European randomised controlled clinical trial ( RCT ) was conducted in 37 centres , on patients presenting with venous or predominantly venous , mixed aetiology leg ulcers at their sloughy stage ( with more than 70 % of the wound bed covered with slough at baseline ) .\n",
    "  METHODS\tPatients were followed over a 6-week period and assessed weekly .\n",
    "  METHODS\tThe primary judgement criteria was the relative regression of the wound surface area after the 6-week treatment period .\n",
    "  METHODS\tSecondary endpoints were the relative reduction of sloughy tissue and the percentage of patients presenting with a debrided wound .\n",
    "  RESULTS\tAltogether , 159 patients were randomised to either UrgoClean ( test group ; n = 83 ) or Aquacel ( control group ; n = 76 ) dressings .\n",
    "  RESULTS\tRegarding the wound healing process predictive factors ( wound area , duration , ABPI value , recurrence ) , at baseline , the two groups were well balanced , for both wound and patient characteristics .\n",
    "  RESULTS\tCompression therapy was administered to both groups and after a median 42-day treatment period , the percentage of relative reduction of the wound surface area was very similar ( -36.9 % vs -35.4 % in the UrgoClean and control groups , respectively ) .\n",
    "  RESULTS\tWhen considering the secondary criteria at week 6 , the relative reduction of sloughy tissue was significantly higher in the UrgoClean group than in the control group ( -65.3 % vs -42,6 % ; p = 0.013 ) .\n",
    "  RESULTS\tThe percentage of debrided wounds was also significantly higher in the test group ( 52.5 % vs 35.1 % ; p = 0.033 ) .\n",
    "  CONCLUSIONS\tThis ` EARTH ' RCT confirmed that the UrgoClean dressing has similar efficacy and safety compared to Aquacel .\n",
    "  CONCLUSIONS\tHowever , UrgoClean also showed better autolytic properties than the control group in the management of venous leg ulcers at the sloughy stage .\n",
    "  CONCLUSIONS\tThe new UrgoClean dressing therefore represents a promising therapeutic option within the current range of autolytic dressings available .\n",
    "  BACKGROUND\tThis study was sponsored by a grant from the pharmaceutical company Laboratoires Urgo .\n",
    "  BACKGROUND\tS. Bohbot and O. Tacca are employees of Laboratoires Urgo .\n",
    "  BACKGROUND\tS. Meaume , J. Dissemond and G. Perceau have received monetary compensation as presenters for Laboratoires Urgo .\n",
    "  BACKGROUND\tData management and statistical analyses were conducted independently by Vertical ( Paris , France ) .\n",
    "\n",
    "  ABSTRACT 5:\n",
    "  OBJECTIVE\tEye movements ( EM ) during recall of an aversive memory is a treatment element unique to Eye Movement Desensitization and Reprocessing ( EMDR ) .\n",
    "  OBJECTIVE\tExperimental studies have shown that EM reduce memory vividness and/or emotionality shortly after the intervention .\n",
    "  OBJECTIVE\tHowever , it is unclear whether the immediate effects of the intervention reflect actual changes in memory .\n",
    "  OBJECTIVE\tThe aim of this study was to test whether immediate reductions in memory vividness and emotionality persist at a 24h follow up and whether the magnitude of these effects is related to the duration of the intervention .\n",
    "  METHODS\tSeventy-three undergraduates recalled two negative autobiographical memories , one with EM ( `` recall with EM '' ) and one without ( `` recall only '' ) .\n",
    "  METHODS\tHalf of participants recalled each memory for four periods of 24s , the other half for eight periods of 24s .\n",
    "  METHODS\tMemory vividness/emotionality were self-rated at a pre-test , an immediate post-test , and a 24h follow-up test .\n",
    "  RESULTS\tIn both duration groups , recall with EM , but not recall only , caused an immediate decrease in memory vividness .\n",
    "  RESULTS\tThere were no immediate reductions in memory emotionality .\n",
    "  RESULTS\tFurthermore , only the ` eight periods ' group showed that recall with EM , but not recall only , caused a decrease in both memory emotionality and memory vividness from the pre-test to the follow-up .\n",
    "  CONCLUSIONS\tOnly self-report measures were used .\n",
    "  CONCLUSIONS\tThe findings suggest that recall with EM causes 24-hchanges in memory vividness/emotionality , which may explain part of the EMDR treatment effect , and these effects are related to intervention duration .\n",
    "\n",
    "  ABSTRACT 6:\n",
    "  OBJECTIVE\tFew studies have tested the impact of motivational interviewing ( MI ) delivered by primary care providers on pediatric obesity .\n",
    "  OBJECTIVE\tThis study tested the efficacy of MI delivered by providers and registered dietitians ( RDs ) to parents of overweight children aged 2 through 8 .\n",
    "  METHODS\tForty-two practices from the Pediatric Research in Office Settings Network of the American Academy of Pediatrics were randomly assigned to 1 of 3 groups .\n",
    "  METHODS\tGroup 1 ( usual care ) measured BMI percentile at baseline and 1 - and 2-year follow-up .\n",
    "  METHODS\tGroup 2 ( provider only ) delivered 4 MI counseling sessions to parents of the index child over 2 years .\n",
    "  METHODS\tGroup 3 ( provider + RD ) delivered 4 provider MI sessions plus 6 MI sessions from a RD. .\n",
    "  METHODS\tThe primary outcome was child BMI percentile at 2-year follow up .\n",
    "  RESULTS\tAt 2-year follow-up , the adjusted BMI percentile was 90.3 , 88.1 , and 87.1 for groups 1 , 2 , and 3 , respectively .\n",
    "  RESULTS\tThe group 3 mean was significantly ( P = .02 ) lower than group 1 .\n",
    "  RESULTS\tMean changes from baseline in BMI percentile were 1.8 , 3.8 , and 4.9 across groups 1 , 2 , and 3 .\n",
    "  CONCLUSIONS\tMI delivered by providers and RDs ( group 3 ) resulted in statistically significant reductions in BMI percentile .\n",
    "  CONCLUSIONS\tResearch is needed to determine the clinical significance and persistence of the BMI effects observed .\n",
    "  CONCLUSIONS\tHow the intervention can be brought to scale ( in particular , how to train physicians to use MI effectively and how best to train RDs and integrate them into primary care settings ) also merits future research .\n",
    "\n",
    "  ABSTRACT 7:\n",
    "  BACKGROUND\tAntithrombin ( AT ) concentrations are reduced after cardiac surgery with cardiopulmonary bypass compared with the preoperative levels .\n",
    "  BACKGROUND\tLow postoperative AT is associated with worse short - and mid-term clinical outcomes .\n",
    "  BACKGROUND\tThe aim of the study is to evaluate the effects of AT administration on activation of the coagulation and fibrinolytic systems , platelet function , and the inflammatory response in patients with low postoperative AT levels .\n",
    "  METHODS\tSixty patients with postoperative AT levels of less than 65 % were randomly assigned to receive purified AT ( 5000 IU in three administrations ) or placebo in the postoperative intensive care unit .\n",
    "  METHODS\tThirty patients with postoperative AT levels greater than 65 % were observed as controls .\n",
    "  METHODS\tInterleukin 6 ( a marker of inflammation ) , prothrombin fragment 1-2 ( a marker of thrombin generation ) , plasmin-antiplasmin complex ( a marker of fibrinolysis ) , and platelet factor 4 ( a marker of platelet activation ) were measured at six different times .\n",
    "  RESULTS\tCompared with the no AT group and control patients , patients receiving AT showed significantly higher AT values until 48 hours after the last administration .\n",
    "  RESULTS\tAnalysis of variance for repeated measures showed a significant effect of study treatment in reducing prothrombin fragment 1-2 ( p = 0.009 ; interaction with time sample , p = 0.006 ) and plasmin-antiplasmin complex ( p < 0.001 ; interaction with time sample , p < 0.001 ) values but not interleukin 6 ( p = 0.877 ; interaction with time sample , p = 0.521 ) and platelet factor 4 ( p = 0.913 ; interaction with time sample , p = 0.543 ) .\n",
    "  RESULTS\tNo difference in chest tube drainage , reopening for bleeding , and blood transfusion was observed .\n",
    "  CONCLUSIONS\tAntithrombin administration in patients with low AT activity after surgery with cardiopulmonary bypass reduces postoperative thrombin generation and fibrinolysis with no effects on platelet activation and inflammatory response .\n",
    "\n",
    "  ABSTRACT 8:\n",
    "  OBJECTIVE\tWe evaluated patients at tertiary [ both percutaneous coronary intervention ( PCI ) and coronary artery bypass grafting ( CABG ) capable ] and primary hospitals in the EARLY-ACS trial .\n",
    "  BACKGROUND\tEarly invasive management is recommended for high-risk non-ST-segment elevation acute coronary syndromes .\n",
    "  METHODS\tWe evaluated outcomes in 9,204 patients presenting to : tertiary sites , primary sites with transfer to tertiary sites ( `` transferred '' ) and those who remained at primary sites ( `` non-transfer '' ) .\n",
    "  RESULTS\tThere were 348 tertiary ( n = 7,455 patients ) and 89 primary hospitals [ n = 1,749 patients ( 729 transferred ; 1,020 non-transfer ) ] .\n",
    "  RESULTS\tSignificant delays occurred in time from symptom onset to angiography ( 49 hr ) , PCI ( 53h ) , and CABG ( 178 hr ) for transferred patients ( P < 0.001 ) .\n",
    "  RESULTS\tNon-transfer patients had less 30-day death/myocardial infarction [ 9.4 % vs. 11.7 % ( tertiary ) ; adjusted odds ratio ( OR ) : 0.78 ( 0.62-0 .97 ) , P = 0.026 ] ; transferred ( 14.0 % ) and tertiary patients were similar [ adjusted OR : 1.23 ( 0.98-1 .53 ) , P = 0.074 ] .\n",
    "  RESULTS\tNon-transfer patients had lower 1-year mortality [ 4.3 % vs. 6.3 % ( tertiary ) ; adjusted hazard ratio ( HR ) : 0.64 ( 0.47-0 .87 ) , P = 0.005 ] : there was no difference between transferred and tertiary patients [ 5.2 % vs. 6.3 % ; adjusted HR : 0.80 ( 0.58-1 .12 ) , P = 0.202 ] .\n",
    "  RESULTS\tDespite similar rates of catheterization , GUSTO severe/moderate bleeding within 120 hr was less in non-transfer [ 3.1 % vs. 6.7 % ( tertiary ) ; adjusted OR : 0.47 ( 0.32-0 .68 ) , P < 0.001 ] , whereas transferred ( 6.1 % ) and tertiary patients were similar [ adjusted OR : 0.94 ( 0.68-1 .30 ) , P = 0.693 ] .\n",
    "  RESULTS\tThere was no difference in non-CABG bleeding .\n",
    "  CONCLUSIONS\tTimely angiography and revascularization were often not achieved in transferred patients .\n",
    "  CONCLUSIONS\tNon-transferred patients presenting to primary sites had the lowest event rates and the best long-term survival .\n",
    "\n",
    "  ABSTRACT 9:\n",
    "  OBJECTIVE\tWe hypothesized that a targeted temperature of 33 C as compared to that of 36 C would increase survival and reduce the severity of circulatory shock in patients with shock on admission after out-of-hospital cardiac arrest ( OHCA ) .\n",
    "  METHODS\tThe recently published Target Temperature Management trial ( TTM-trial ) randomized 939 OHCA patients with no difference in outcome between groups and no difference in mortality at the end of the trial in a predefined subgroup of patients with shock at admission .\n",
    "  METHODS\tShock was defined as a systolic blood pressure of < 90 mm Hg for > 30 min or the need of supportive measures to maintain a blood pressure 90 mmHg and/or clinical signs of end-organ hypoperfusion .\n",
    "  METHODS\tIn this post hoc analysis reported here , we further analyzed the 139 patients with shock at admission ; all had been randomized to receive intervention at 33 C ( TTM33 ; n = 71 ) or 36 C ( TTM36 ; n = 68 ) .\n",
    "  METHODS\tPrimary outcome was 180-day mortality .\n",
    "  METHODS\tSecondary outcomes were intensive care unit ( ICU ) and 30-day mortality , severity of circulatory shock assessed by mean arterial pressure , serum lactate , fluid balance and the extended Sequential Organ Failure assessment ( SOFA ) score .\n",
    "  RESULTS\tThere was no significance difference between targeted temperature management at 33 C or 36 C on 180-day mortality [ log-rank test , p = 0.17 , hazard ratio 1.33 , 95 % confidence interval ( CI ) 0.88-1 .98 ] or ICU mortality ( 61 vs. 44 % , p = 0.06 ; relative risk 1.37 , 95 % CI 0.99-1 .91 ) .\n",
    "  RESULTS\tSerum lactate and the extended cardiovascular SOFA score were higher in the TTM33 group ( p < 0.01 ) .\n",
    "  CONCLUSIONS\tWe found no benefit in survival or severity of circulatory shock with targeted temperature management at 33 C as compared to 36 C in patients with shock on admission after OHCA .\n",
    "\n",
    "  ABSTRACT 10:\n",
    "  BACKGROUND\tYouths with a family history of alcohol and other drug use disorders ( FH + ) are at a greater risk of developing substance use disorders than their peers with no such family histories ( FH - ) , and this increased risk may be related to impaired maturation of forebrain circuitry .\n",
    "  BACKGROUND\tFH + individuals have shown altered forebrain activity at rest and while performing cognitive tasks .\n",
    "  BACKGROUND\tHowever , it is not fully understood how forebrain activity is altered in FH + individuals , and ultimately how these alterations may contribute to substance use disorder risk .\n",
    "  METHODS\tIn this study , we tested 72 FH + and 32 FH - youths performing a go/no-go task and examined activations in blocks with only go trials ( Go Only ) , blocks with 50 % go and 50 % no-go trials ( Go/NoGo ) , and a contrast of those 2 blocks .\n",
    "  RESULTS\tFH + youths had significantly greater cerebral activations in both the Go and Go/NoGo blocks than FH - youths in regions including the posterior cingulate/precuneus , bilateral middle/superior temporal gyrus , and medial superior frontal gyrus with no significant group differences in the subtraction between Go Only and Go/NoGo blocks .\n",
    "  RESULTS\tAdditionally , FH + youths had moderately slower reaction times on go trials in the Go Only blocks .\n",
    "  CONCLUSIONS\tOur findings suggest that global activation increase in FH + youths are modulated by FH density and are not specific to the inhibitory components of the task .\n",
    "  CONCLUSIONS\tThis pattern of increased activations in FH + youths may be at least partially due to impaired forebrain white matter development leading to greater activations/less efficient neural communication during task performance .\n",
    "\n",
    "  What are the labels for each sentence in this abstract?\n",
    "\n",
    "  We tested the hypothesis that clevidipine , a rapidly acting dihydropyridine calcium channel blocker , is not inferior to nitroglycerin ( NTG ) in controlling blood pressure before cardiopulmonary bypass ( CPB ) during coronary artery bypass grafting ( CABG ) . \n",
    "  \n",
    "  In this double-blind study from October 4 , 2003 to April 26 , 2004 , 100 patients undergoing CABG with CPB were randomized at four centres to receive intravenous infusions of clevidipine ( 0.2-8gkg ( -1 ) min ( -1 ) ) or NTG ( 0.4 gkg ( -1 ) min ( -1 ) to a clinician-determined maximum dose rate ) from induction of anesthesia through 12hr postoperatively . \n",
    "  \n",
    "  The study drug was titrated in the pre-CPB period with the aim of maintaining mean arterial pressure ( MAP ) within 5mmHg of a clinician-predetermined target .\n",
    "   \n",
    "  The primary endpoint was the area under the curve ( AUC ) for the total time each patient 's MAP was outside the target range from drug initiation to the start of CPB , normalized per hour ( AUCMAP-D ) . \n",
    "  \n",
    "  The predefined non-inferiority criterion for the primary endpoint was a 95 % confidence interval ( CI ) upper limit no greater than 1.50 for the geometric means ratio between clevidipine and NTG . \n",
    "  \n",
    "  Total mean [ standard deviation ( SD ) ] dose pre-bypass was 4.5 ( 4.7 ) mg for clevidipine and 6.9 ( 5.4 ) mg for NTG ( P < 0.05 ) . \n",
    "  \n",
    "  The geometric mean AUCMAP-D for clevidipine was 283mmHgminhr ( -1 ) ( n = 45 ) and for NTG was 292mmHgminhr ( -1 ) ( n = 48 ) ; the geometric means ratio was 0.97 ( 95 % CI 0.74 to 1.27 ) . \n",
    "  \n",
    "  The geometric mean AUCMAP-D during aortic cannulation was 357.7 mmHgminhr ( -1 ) for clevidipine compared with 190.5 mmHgminhr ( -1 ) for NTG . Mean ( SD ) heart rate with clevidipine was 76.0 ( 13.8 ) beatsmin ( -1 ) compared with 81.5 ( 14.4 ) beatsmin ( -1 ) for NTG . \n",
    "  \n",
    "  There were no clinically important differences between groups in adverse events . \n",
    "  \n",
    "  During CABG , clevidipine was not inferior to NTG for blood pressure control pre-bypass .\n",
    "\n",
    "  (Note that there are only 5 labels and nothing else, namely: OBJECTIVE, BACKGROUND, METHODS, RESULTS, CONCLUSIONS. Return ONLY ONE label for each sentence and nothing else).\n",
    "  '''"
   ]
  },
  {
   "cell_type": "code",
   "execution_count": null,
   "metadata": {},
   "outputs": [],
   "source": [
    "model.count_tokens(prompt)"
   ]
  },
  {
   "cell_type": "code",
   "execution_count": null,
   "metadata": {},
   "outputs": [],
   "source": [
    "safety_settings={\n",
    "    # HarmCategory.HARM_CATEGORY_UNSPECIFIED: HarmBlockThreshold.BLOCK_NONE,\n",
    "    # HarmCategory.HARM_CATEGORY_DEROGATORY: HarmBlockThreshold.BLOCK_NONE,\n",
    "    # HarmCategory.HARM_CATEGORY_TOXICITY: HarmBlockThreshold.BLOCK_NONE,\n",
    "    # HarmCategory.HARM_CATEGORY_VIOLENCE: HarmBlockThreshold.BLOCK_NONE,\n",
    "    # HarmCategory.HARM_CATEGORY_SEXUAL: HarmBlockThreshold.BLOCK_NONE,\n",
    "    # HarmCategory.HARM_CATEGORY_MEDICAL: HarmBlockThreshold.BLOCK_NONE,\n",
    "    # HarmCategory.HARM_CATEGORY_DANGEROUS: HarmBlockThreshold.BLOCK_NONE,\n",
    "    HarmCategory.HARM_CATEGORY_HARASSMENT: HarmBlockThreshold.BLOCK_NONE,\n",
    "    HarmCategory.HARM_CATEGORY_HATE_SPEECH: HarmBlockThreshold.BLOCK_NONE,\n",
    "    HarmCategory.HARM_CATEGORY_SEXUALLY_EXPLICIT: HarmBlockThreshold.BLOCK_NONE,\n",
    "    HarmCategory.HARM_CATEGORY_DANGEROUS_CONTENT: HarmBlockThreshold.BLOCK_NONE,\n",
    "}\n",
    "\n",
    "generation_config=genai.types.GenerationConfig(\n",
    "        # Only one candidate for now.\n",
    "        candidate_count=1,\n",
    "        max_output_tokens=20,\n",
    "        temperature=0.5)\n"
   ]
  },
  {
   "cell_type": "code",
   "execution_count": null,
   "metadata": {},
   "outputs": [],
   "source": [
    "import pandas as pd"
   ]
  },
  {
   "cell_type": "markdown",
   "metadata": {},
   "source": [
    "# Data and Infer"
   ]
  },
  {
   "cell_type": "code",
   "execution_count": null,
   "metadata": {},
   "outputs": [],
   "source": [
    "df = pd.read_csv(r'')"
   ]
  },
  {
   "cell_type": "code",
   "execution_count": null,
   "metadata": {},
   "outputs": [],
   "source": [
    "import tqdm\n",
    "# import time\n",
    "\n",
    "# delay_seconds = 2\n",
    "\n",
    "# Loop through the df row [text]\n",
    "for index, row in tqdm.tqdm(df.iterrows(), total = len(df)):\n",
    "    # append the [text] to the prompt\n",
    "    prompt = prompt + row['text']\n",
    "    # generate the response\n",
    "    response = model.generate_content(prompt, \n",
    "                                    #   generation_config=generation_config, \n",
    "                                      safety_settings=safety_settings)\n",
    "    \n",
    "    # append the response.text to the prediction collumn\n",
    "    df.at[index, 'prediction'] = response.text\n",
    "\n",
    "    # A delay between iterations\n",
    "    # time.sleep(delay_seconds)\n",
    "\n",
    "df.to_csv(r'', index = False)"
   ]
  },
  {
   "cell_type": "code",
   "execution_count": null,
   "metadata": {},
   "outputs": [],
   "source": [
    "df.to_csv(r'', index = False)"
   ]
  },
  {
   "cell_type": "code",
   "execution_count": null,
   "metadata": {},
   "outputs": [],
   "source": [
    "response = model.generate_content(prompt, generation_config=generation_config, safety_settings=safety_settings)"
   ]
  },
  {
   "cell_type": "code",
   "execution_count": null,
   "metadata": {},
   "outputs": [],
   "source": [
    "response.text"
   ]
  },
  {
   "cell_type": "markdown",
   "metadata": {},
   "source": [
    "# Eval"
   ]
  },
  {
   "cell_type": "code",
   "execution_count": null,
   "metadata": {},
   "outputs": [],
   "source": [
    "pred_df = pd.read_csv(r'')\n",
    "# Convert BACKGROUND with 1, METHODS with 2, OBJECTIVE with 3, RESULTS with 4, and CONCLUSIONS with 5\n",
    "pred_df['type'] = pred_df['type'].replace({'BACKGROUND':1, 'METHODS':2, 'OBJECTIVE':3, 'RESULTS':4, 'CONCLUSIONS':5})\n",
    "pred_df['prediction'] = pred_df['prediction'].replace({'BACKGROUND':1, 'METHODS':2, 'OBJECTIVE':3, 'RESULTS':4, 'CONCLUSIONS':5})"
   ]
  },
  {
   "cell_type": "code",
   "execution_count": null,
   "metadata": {},
   "outputs": [],
   "source": [
    "pred_df.to_csv('pred_df.csv',index = False)"
   ]
  },
  {
   "cell_type": "code",
   "execution_count": null,
   "metadata": {},
   "outputs": [],
   "source": [
    "from sklearn.metrics import accuracy_score"
   ]
  },
  {
   "cell_type": "code",
   "execution_count": null,
   "metadata": {},
   "outputs": [],
   "source": [
    "import numpy as np\n",
    "pred_df = pd.read_csv('pred_df.csv')\n",
    "y_true = np.array(pred_df['type'])\n",
    "y_pred = np.array(pred_df['prediction'].astype(int))\n",
    "print('Accuracy: ', accuracy_score(y_true, y_pred))"
   ]
  },
  {
   "cell_type": "code",
   "execution_count": null,
   "metadata": {},
   "outputs": [],
   "source": [
    "table = pd.crosstab(pred_df['type'], pred_df['prediction'])\n",
    "\n",
    "print(table)"
   ]
  },
  {
   "cell_type": "code",
   "execution_count": null,
   "metadata": {},
   "outputs": [],
   "source": [
    "pred_df.info()"
   ]
  }
 ],
 "metadata": {
  "kernelspec": {
   "display_name": "NLP310",
   "language": "python",
   "name": "python3"
  },
  "language_info": {
   "codemirror_mode": {
    "name": "ipython",
    "version": 3
   },
   "file_extension": ".py",
   "mimetype": "text/x-python",
   "name": "python",
   "nbconvert_exporter": "python",
   "pygments_lexer": "ipython3",
   "version": "3.10.12"
  }
 },
 "nbformat": 4,
 "nbformat_minor": 2
}
